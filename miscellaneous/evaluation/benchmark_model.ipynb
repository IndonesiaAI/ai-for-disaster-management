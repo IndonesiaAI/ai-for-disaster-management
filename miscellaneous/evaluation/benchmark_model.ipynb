{
 "cells": [
  {
   "cell_type": "code",
   "execution_count": 1,
   "metadata": {},
   "outputs": [],
   "source": [
    "import time\n",
    "import numpy as np\n",
    "import onnxruntime as ort\n",
    "import albumentations as A\n",
    "import matplotlib.pyplot as plt\n",
    "from PIL import Image\n",
    "from tqdm import tqdm\n",
    "from scipy.spatial import distance\n",
    "from sklearn.metrics import precision_score, recall_score"
   ]
  },
  {
   "cell_type": "code",
   "execution_count": 2,
   "metadata": {},
   "outputs": [],
   "source": [
    "model_path = \"./onnx_inference_model.onnx\"\n",
    "device_inference = \"cpu\"\n",
    "input_size = (640, 480)\n",
    "threshold = 0.5"
   ]
  },
  {
   "cell_type": "code",
   "execution_count": 3,
   "metadata": {},
   "outputs": [],
   "source": [
    "def predict_image(image, ort_session):\n",
    "    input_onnx = ort_session.get_inputs()[0].name\n",
    "    outputs = ort_session.run(\n",
    "        None,\n",
    "        {input_onnx: image},\n",
    "    )\n",
    "    return outputs\n",
    "\n",
    "def preprocessing_image(image_path):\n",
    "    mean = np.array([0.5, 0.5, 0.5], dtype=np.float16)\n",
    "    std = np.array([0.5, 0.5, 0.5], dtype=np.float16)\n",
    "    \n",
    "    image = np.array(Image.open(image_path).convert(\"RGB\").resize(input_size))\n",
    "    image_augmentation = A.Compose([\n",
    "            A.Normalize(mean, std),\n",
    "    ])\n",
    "    image = image_augmentation(image=image)[\"image\"]\n",
    "    image = np.transpose(image, (2, 0, 1))\n",
    "    image = np.expand_dims(image, 0)\n",
    "    return image\n",
    "\n",
    "def postprocessing_image(predict):\n",
    "    predict = predict[0][0]\n",
    "    predict = np.where(predict[1] > threshold, predict, 0)\n",
    "    predict = np.ceil(predict)\n",
    "    return predict\n",
    "\n",
    "def get_all_result_confidence(predict, mask):\n",
    "    all_result_confidence = []\n",
    "    for prd in predict:\n",
    "        iou = binary_mask_iou(prd, mask)\n",
    "        all_result_confidence.append([1-iou, iou])\n",
    "    return np.array(all_result_confidence)\n",
    "\n",
    "def binary_mask_iou(mask1, mask2):\n",
    "    mask1_area = np.count_nonzero(mask1)\n",
    "    mask2_area = np.count_nonzero(mask2)\n",
    "    intersection = np.count_nonzero(np.logical_and(mask1, mask2))\n",
    "    iou = intersection / (mask1_area + mask2_area - intersection)\n",
    "    return iou"
   ]
  },
  {
   "cell_type": "code",
   "execution_count": 4,
   "metadata": {},
   "outputs": [],
   "source": [
    "ort_session = (ort.InferenceSession(model_path, providers=[\"CPUExecutionProvider\" \n",
    "                                                           if device_inference == \"cpu\" \n",
    "                                                           else \"CUDAExecutionProvider\"])\n",
    ")"
   ]
  },
  {
   "cell_type": "code",
   "execution_count": 5,
   "metadata": {},
   "outputs": [],
   "source": [
    "image = \"../../dataset_segmentation/Images/image_0.jpg\"\n",
    "mask = \"../../dataset_segmentation/Masks/image_0.png\""
   ]
  },
  {
   "cell_type": "code",
   "execution_count": 6,
   "metadata": {},
   "outputs": [
    {
     "data": {
      "image/png": "[encoded data removed]",
      "text/plain": [
       "<Figure size 720x360 with 2 Axes>"
      ]
     },
     "metadata": {
      "needs_background": "light"
     },
     "output_type": "display_data"
    }
   ],
   "source": [
    "start_time = time.time()\n",
    "predict = preprocessing_image(image)\n",
    "predict = predict_image(predict, ort_session)\n",
    "predict = postprocessing_image(predict)\n",
    "end_time = time.time() - start_time\n",
    "mask_image = np.array(Image.open(mask).resize(input_size))\n",
    "all_result_confidence = get_all_result_confidence(predict, mask_image)\n",
    "\n",
    "fig, ax = plt.subplots(1, 2, figsize=(10, 5))\n",
    "fig.supxlabel(f'IoU: {all_result_confidence[1][1]:.5f}, Inference Time: {end_time:.5f}')\n",
    "\n",
    "ax[0].imshow(mask_image, cmap=\"gray\")\n",
    "ax[0].set_title(\"Ground Truth Image\")\n",
    "\n",
    "ax[1].imshow(predict[1], cmap=\"gray\")\n",
    "ax[1].set_title(\"Predicted Image\")\n",
    "plt.show()"
   ]
  },
  {
   "cell_type": "code",
   "execution_count": 7,
   "metadata": {},
   "outputs": [],
   "source": [
    "with open(\"../annotations_test.txt\", \"r\") as f:\n",
    "    data_annotations_test = f.readlines()\n",
    "    data_annotations_test = [data.replace('\\n', '') for data in data_annotations_test]\n",
    "    data_annotations_test = [data.replace('/content/datasets/Images/', '../../dataset_segmentation/Images/') for data in data_annotations_test]\n",
    "    data_annotations_test = [data.replace('/content/datasets/Masks/', '../../dataset_segmentation/Masks/') for data in data_annotations_test]"
   ]
  },
  {
   "cell_type": "code",
   "execution_count": 8,
   "metadata": {},
   "outputs": [
    {
     "name": "stderr",
     "output_type": "stream",
     "text": [
      "100%|██████████| 200/200 [04:44<00:00,  1.42s/it]"
     ]
    },
    {
     "name": "stdout",
     "output_type": "stream",
     "text": [
      "mIoU: 0.7902557220874855\n",
      "Mean Average Precision: 0.8708536601985156\n",
      "Mean Average Recall: 0.895678302059449\n",
      "Mean Average Dice Loss: 0.11961976243980757\n"
     ]
    },
    {
     "name": "stderr",
     "output_type": "stream",
     "text": [
      "\n"
     ]
    }
   ],
   "source": [
    "predicted_iou = []\n",
    "prediced_dice_loss = []\n",
    "precision_labels = []\n",
    "recall_labels = []\n",
    "\n",
    "for data_test in tqdm(data_annotations_test):\n",
    "    split_data_test = data_test.split(\" \")\n",
    "    image_path = split_data_test[0]\n",
    "    mask_image_path = split_data_test[1]\n",
    "    \n",
    "    result_image = preprocessing_image(image_path)\n",
    "    result_image = predict_image(result_image, ort_session)\n",
    "    result_image = postprocessing_image(result_image)\n",
    "    mask_image = np.array(Image.open(mask_image_path).resize(input_size))\n",
    "    precision_labels.append(\n",
    "        precision_score(mask_image.flatten(), result_image[1].flatten())\n",
    "    )\n",
    "    recall_labels.append(\n",
    "        recall_score(mask_image.flatten(), result_image[1].flatten())\n",
    "    )\n",
    "    all_result_confidence = get_all_result_confidence(result_image, mask_image)\n",
    "    predicted_iou.append(all_result_confidence[1][1])\n",
    "    prediced_dice_loss.append(distance.dice(mask_image.flatten(), result_image[1].flatten()))\n",
    "    \n",
    "print(\"mIoU:\", np.mean(predicted_iou))\n",
    "print(\"Mean Average Precision:\", np.mean(precision_labels))\n",
    "print(\"Mean Average Recall:\", np.mean(recall_labels))\n",
    "print(\"Mean Average Dice Loss:\", np.mean(prediced_dice_loss))"
   ]
  },
  {
   "cell_type": "code",
   "execution_count": null,
   "metadata": {},
   "outputs": [],
   "source": []
  }
 ],
 "metadata": {
  "interpreter": {
   "hash": "ad2bdc8ecc057115af97d19610ffacc2b4e99fae6737bb82f5d7fb13d2f2c186"
  },
  "kernelspec": {
   "display_name": "Python 3.9.7 ('base')",
   "language": "python",
   "name": "python3"
  },
  "language_info": {
   "codemirror_mode": {
    "name": "ipython",
    "version": 3
   },
   "file_extension": ".py",
   "mimetype": "text/x-python",
   "name": "python",
   "nbconvert_exporter": "python",
   "pygments_lexer": "ipython3",
   "version": "3.9.7"
  },
  "orig_nbformat": 4
 },
 "nbformat": 4,
 "nbformat_minor": 2
}
