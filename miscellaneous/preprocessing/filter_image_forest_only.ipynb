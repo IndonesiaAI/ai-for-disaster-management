{
 "cells": [
  {
   "cell_type": "code",
   "execution_count": 1,
   "metadata": {},
   "outputs": [],
   "source": [
    "import os\n",
    "import gdown\n",
    "import winsound\n",
    "import numpy as np\n",
    "import onnxruntime as ort\n",
    "import albumentations as A\n",
    "from PIL import Image\n",
    "from tqdm import tqdm\n",
    "from scipy.special import softmax\n",
    "from albumentations.pytorch import ToTensorV2"
   ]
  },
  {
   "cell_type": "code",
   "execution_count": 3,
   "metadata": {},
   "outputs": [
    {
     "name": "stderr",
     "output_type": "stream",
     "text": [
      "Downloading...\n",
      "From: https://drive.google.com/uc?id=1-iWtl9VHyDIypQnsRAuNzlkLfxddVXDi\n",
      "To: d:\\Projects\\Project Programming\\Python\\Indonesia AI\\RnD - AI for Disaster Management\\ai-for-disaster-management\\utils\\saved_model.onnx\n",
      "100%|██████████| 90.4M/90.4M [03:18<00:00, 456kB/s]\n"
     ]
    },
    {
     "data": {
      "text/plain": [
       "'saved_model.onnx'"
      ]
     },
     "execution_count": 3,
     "metadata": {},
     "output_type": "execute_result"
    }
   ],
   "source": [
    "url = \"https://drive.google.com/uc?id=1-iWtl9VHyDIypQnsRAuNzlkLfxddVXDi\"\n",
    "gdown.download(url)"
   ]
  },
  {
   "cell_type": "code",
   "execution_count": 2,
   "metadata": {},
   "outputs": [],
   "source": [
    "model_path = \"./saved_model.onnx\"\n",
    "device_inference = \"cpu\"\n",
    "classes = ['street', 'mountain', 'sea', 'buildings', 'forest', 'glacier']"
   ]
  },
  {
   "cell_type": "code",
   "execution_count": 3,
   "metadata": {},
   "outputs": [],
   "source": [
    "def predict_image(image, ort_session):\n",
    "    input_onnx = ort_session.get_inputs()[0].name\n",
    "    outputs = ort_session.run(\n",
    "        None,\n",
    "        {input_onnx: image},\n",
    "    )\n",
    "    return outputs\n",
    "\n",
    "def preprocessing_image(image_path):\n",
    "    image = Image.open(image_path)\n",
    "    image_augmentation = A.Compose([\n",
    "            A.Resize(224, 224),\n",
    "            A.Normalize(),\n",
    "            ToTensorV2()\n",
    "    ])\n",
    "    image = image_augmentation(image=np.array(image))[\"image\"]\n",
    "    image = np.expand_dims(image, axis=0)\n",
    "    return image\n",
    "\n",
    "def postprocessing_output(output):\n",
    "    predict = softmax(output[0][0])\n",
    "    predict = np.argmax(predict)\n",
    "    predict = classes[predict]\n",
    "    return predict\n",
    "\n",
    "def play_sound(duration, freq):\n",
    "    winsound.Beep(freq, duration)"
   ]
  },
  {
   "cell_type": "code",
   "execution_count": 4,
   "metadata": {},
   "outputs": [],
   "source": [
    "ort_session = (ort.InferenceSession(model_path, providers=[\"CPUExecutionProvider\" \n",
    "                                                           if device_inference == \"cpu\" \n",
    "                                                           else \"CUDAExecutionProvider\"])\n",
    ")"
   ]
  },
  {
   "cell_type": "code",
   "execution_count": 5,
   "metadata": {},
   "outputs": [],
   "source": [
    "path_image_dir = \"./dataset/day/\"\n",
    "all_images = os.listdir(path_image_dir)"
   ]
  },
  {
   "cell_type": "code",
   "execution_count": 6,
   "metadata": {},
   "outputs": [
    {
     "name": "stderr",
     "output_type": "stream",
     "text": [
      "100%|██████████| 6361/6361 [17:10<00:00,  6.18it/s]\n"
     ]
    }
   ],
   "source": [
    "for image in tqdm(all_images):\n",
    "    try:\n",
    "        predict = preprocessing_image(os.path.join(path_image_dir, image))\n",
    "        predict = predict_image(predict, ort_session)\n",
    "        predict = postprocessing_output(predict)\n",
    "        if predict == \"forest\": continue\n",
    "        os.remove(os.path.join(path_image_dir, image))\n",
    "    except:\n",
    "        os.remove(os.path.join(path_image_dir, image))\n",
    "        continue"
   ]
  },
  {
   "cell_type": "code",
   "execution_count": 7,
   "metadata": {},
   "outputs": [],
   "source": [
    "play_sound(2000, 500)"
   ]
  },
  {
   "cell_type": "code",
   "execution_count": null,
   "metadata": {},
   "outputs": [],
   "source": []
  }
 ],
 "metadata": {
  "kernelspec": {
   "display_name": "Python 3.9.7 ('base')",
   "language": "python",
   "name": "python3"
  },
  "language_info": {
   "codemirror_mode": {
    "name": "ipython",
    "version": 3
   },
   "file_extension": ".py",
   "mimetype": "text/x-python",
   "name": "python",
   "nbconvert_exporter": "python",
   "pygments_lexer": "ipython3",
   "version": "3.9.7"
  },
  "orig_nbformat": 4,
  "vscode": {
   "interpreter": {
    "hash": "ad2bdc8ecc057115af97d19610ffacc2b4e99fae6737bb82f5d7fb13d2f2c186"
   }
  }
 },
 "nbformat": 4,
 "nbformat_minor": 2
}
